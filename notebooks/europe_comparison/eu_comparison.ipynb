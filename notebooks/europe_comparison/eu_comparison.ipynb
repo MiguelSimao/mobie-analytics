{
 "cells": [
  {
   "cell_type": "markdown",
   "metadata": {},
   "source": [
    "# Comparação entre a rede de carregamento Portuguesa e od outros países da Europa a 27\n",
    "\n",
    "\n",
    "## Resumo\n",
    "\n",
    "\n",
    "\n",
    "## Fontes de dados\n",
    "\n",
    "1. European Alternative Fuels Observatory [(link)](https://alternative-fuels-observatory.ec.europa.eu/transport-mode/road/european-union-eu27/country-comparison)\n",
    "    * Frota elétrica por país: Quick Navigation -> Fleet\n",
    "    * Carregadores por país: Quick Navigation -> Infrastructure\n",
    "\n",
    "### Notas\n",
    "\n",
    "* Dados oficiais do Observatório Europeu para Combustíveis Alternativos.\n",
    "* Dados de 2022 extraídos em Agosto de 2023.\n",
    "* Dados de 2021 extraídos em Junho de 2022."
   ]
  },
  {
   "cell_type": "code",
   "execution_count": null,
   "metadata": {
    "tags": [
     "remove-cell"
    ]
   },
   "outputs": [],
   "source": [
    "# Load data\n",
    "import matplotlib.pyplot as plt\n",
    "from notebooks.europe_comparison import preprocess\n",
    "import seaborn as sns\n",
    "\n",
    "df = preprocess.load()\n",
    "df = df.sort_values([\"Country\", \"year\"])\n",
    "\n",
    "df[\"P\"] = df[\"PCN\"] + df[\"PCR\"] + df[\"PCUR\"]\n",
    "df[\"PCN_PER_EV\"] = df[\"PCN\"] / df[\"EVS\"] * 1000\n",
    "df[\"PCR_PER_EV\"] = df[\"PCR\"] / df[\"BEV\"] * 1000\n",
    "df[\"PCUR_PER_EV\"] = df[\"PCUR\"] / df[\"BEV\"] * 1000\n",
    "df[\"P_PER_EV\"] = df[\"P\"] / df[\"EVS\"] * 1000\n",
    "\n",
    "df[\"GROWTH_PCN\"] = (df[\"PCN\"] - df.groupby('Country')['PCN'].shift(1)) / df[\"PCN\"] * 100\n",
    "df[\"GROWTH_PCR\"] = (df[\"PCR\"] - df.groupby('Country')['PCR'].shift(1)) / df[\"PCR\"] * 100\n",
    "df[\"GROWTH_PCUR\"] = (df[\"PCUR\"] - df.groupby('Country')['PCUR'].shift(1)) / df[\"PCUR\"] * 100\n",
    "df[\"GROWTH_P\"] = (df[\"P\"] - df.groupby('Country')['P'].shift(1)) / df[\"P\"] * 100\n",
    "df[\"GROWTH_EVS\"] = (df[\"EVS\"] - df.groupby('Country')['EVS'].shift(1)) / df[\"EVS\"] * 100\n",
    "\n",
    "\n",
    "df[\"RANK_P_PER_EV\"] = df.groupby('year')['P_PER_EV'].rank(ascending=False)\n",
    "df[\"RANK_DIFF_P_PER_EV\"] = df.groupby('Country')['RANK_P_PER_EV'].shift(1) - df[\"RANK_P_PER_EV\"]\n",
    "\n",
    "df[\"RANK_PCN_PER_EV\"] = df.groupby('year')['PCN_PER_EV'].rank(ascending=False)\n",
    "df[\"RANK_DIFF_PCN_PER_EV\"] = df.groupby('Country')['RANK_PCN_PER_EV'].shift(1) - df[\"RANK_PCN_PER_EV\"]\n",
    "\n",
    "df[\"RANK_PCR_PER_EV\"] = df.groupby('year')['PCR_PER_EV'].rank(ascending=False)\n",
    "df[\"RANK_DIFF_PCR_PER_EV\"] = df.groupby('Country')['RANK_PCR_PER_EV'].shift(1) - df[\"RANK_PCR_PER_EV\"]\n",
    "\n",
    "df[\"RANK_PCUR_PER_EV\"] = df.groupby('year')['PCUR_PER_EV'].rank(ascending=False)\n",
    "df[\"RANK_DIFF_PCUR_PER_EV\"] = df.groupby('Country')['RANK_PCUR_PER_EV'].shift(1) - df[\"RANK_PCUR_PER_EV\"]"
   ]
  },
  {
   "cell_type": "markdown",
   "metadata": {},
   "source": []
  },
  {
   "cell_type": "markdown",
   "metadata": {},
   "source": [
    "## Número de carregadores por veículo nos países da União Europeia\n",
    "\n",
    "* Ranking de todos os carregadores\n",
    "* Ranking por classe\n"
   ]
  },
  {
   "cell_type": "code",
   "execution_count": null,
   "metadata": {},
   "outputs": [],
   "source": [
    "fig, ax = plt.subplots(1, 1, figsize=(12, 4))\n",
    "\n",
    "sns.barplot(\n",
    "    (\n",
    "        df\n",
    "        .loc[lambda _: _.year == _.year.max()]\n",
    "        .sort_values([\"year\", \"P_PER_EV\"], ascending=[False, False])\n",
    "\n",
    "    ), \n",
    "    x=\"Country\",\n",
    "    y=\"P_PER_EV\",\n",
    "    hue=\"year\",\n",
    "    ax=ax\n",
    ")\n",
    "plt.ylabel(\"Plugs per 1000 EV\")\n",
    "plt.xlabel(\"\")\n",
    "plt.ylim([0, ax.get_ylim()[1]])\n",
    "plt.title(\"Crescimento \")\n",
    "_ = plt.xticks(rotation=-45, ha=\"left\")"
   ]
  },
  {
   "cell_type": "code",
   "execution_count": null,
   "metadata": {},
   "outputs": [],
   "source": []
  },
  {
   "cell_type": "code",
   "execution_count": null,
   "metadata": {},
   "outputs": [],
   "source": []
  },
  {
   "cell_type": "code",
   "execution_count": null,
   "metadata": {},
   "outputs": [],
   "source": []
  },
  {
   "cell_type": "code",
   "execution_count": null,
   "metadata": {},
   "outputs": [],
   "source": [
    "df_growth = (\n",
    "    df.loc[:, [\"Country\", \"year\", \"GROWTH_P\", \"GROWTH_EVS\"]]\n",
    "    .dropna()\n",
    "    .pipe(lambda _: _.melt(id_vars=[\"Country\", \"year\"]))\n",
    ")\n",
    "df_growth.head()"
   ]
  },
  {
   "cell_type": "code",
   "execution_count": null,
   "metadata": {},
   "outputs": [],
   "source": [
    "fig, ax = plt.subplots(1, 1, figsize=(12, 4))\n",
    "\n",
    "\n",
    "\n",
    "sns.barplot(\n",
    "    df_growth.sort_values([\"variable\", \"value\"], ascending=False),\n",
    "    x=\"Country\", y=\"value\", hue=\"variable\", \n",
    "    ax=ax\n",
    ")\n",
    "plt.ylabel(\"Plugs\")\n",
    "plt.xlabel(\"\")\n",
    "plt.ylim([0, ax.get_ylim()[1]])\n",
    "plt.title(\"Crescimento \")\n",
    "_ = plt.xticks(rotation=-45, ha=\"left\")"
   ]
  },
  {
   "cell_type": "code",
   "execution_count": null,
   "metadata": {},
   "outputs": [],
   "source": []
  }
 ],
 "metadata": {
  "kernelspec": {
   "display_name": "venv",
   "language": "python",
   "name": "python3"
  },
  "language_info": {
   "codemirror_mode": {
    "name": "ipython",
    "version": 3
   },
   "file_extension": ".py",
   "mimetype": "text/x-python",
   "name": "python",
   "nbconvert_exporter": "python",
   "pygments_lexer": "ipython3",
   "version": "3.10.12"
  },
  "orig_nbformat": 4
 },
 "nbformat": 4,
 "nbformat_minor": 2
}
